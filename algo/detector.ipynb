{
 "cells": [
  {
   "cell_type": "code",
   "execution_count": 1,
   "metadata": {},
   "outputs": [],
   "source": [
    "import numpy as np\n",
    "import os\n",
    "import cv2"
   ]
  },
  {
   "cell_type": "code",
   "execution_count": 2,
   "metadata": {},
   "outputs": [],
   "source": [
    "class LicensePlateDectector(object):\n",
    "    \"\"\"车牌检测器\"\"\"\n",
    "    def __init__(self, image_path, image_name, width, height, mean, scalefactor, classes, model_path, protctxt_path):\n",
    "        \"\"\"初始化参数\"\"\"\n",
    "        self.image_path = image_path\n",
    "        self.image_name = image_name\n",
    "        #  self.watermark_path = watermark_path\n",
    "        self.width = width\n",
    "        self.height = height\n",
    "        self.mean = mean\n",
    "        self.scalefactor = scalefactor\n",
    "        self.classes = classes\n",
    "        self.model_path  = model_path\n",
    "        self.protctxt_path = protctxt_path\n",
    "        \n",
    "        self.origin_image = cv2.imread(self.image_path)\n",
    "        \n",
    "    def image_preprocessing(self):\n",
    "        \"\"\"图片输入模型前进行处理\"\"\"\n",
    "        image = cv2.resize(self.origin_image, (self.width, self.height))\n",
    "        image = image - self.mean\n",
    "        image = image * self.scalefactor\n",
    "        \n",
    "        #  H W C →N C H W\n",
    "        image = np.array([image.transpose([2, 0, 1])]) \n",
    "        return image\n",
    "    \n",
    "    def detections_analysis(self, detections):\n",
    "        \"\"\"解析检测结果\"\"\"\n",
    "        height = self.origin_image.shape[0]\n",
    "        weight = self.origin_image.shape[1]\n",
    "        \n",
    "        boxes = detections[0, 0, :, 3 : 7] * np.array([weight, height, weight, height])\n",
    "        classes = detections[0, 0, :, 1]\n",
    "        confidences = detections[0, 0, :, 2]\n",
    "        return (boxes.astype(np.int32), classes, confidences)\n",
    "\n",
    "    def detector(self):\n",
    "        \"\"\"检测器\"\"\"\n",
    "        blob = self.image_preprocessing()\n",
    "        net = cv2.dnn.readNetFromCaffe(self.protctxt_path, self.model_path)\n",
    "        net.setInput(blob)\n",
    "        detections = net.forward()\n",
    "        return detections\n",
    "    \n",
    "    def draw_bounding_box(self):\n",
    "        \"\"\"画出目标框\"\"\"\n",
    "        detections = self.detector()\n",
    "        boxes, classes, confidences = self.detections_analysis(detections)\n",
    "        \n",
    "        for i in range(len(boxes)):\n",
    "            if confidences[i] > 0.1:\n",
    "                upper_left_point = (boxes[i][0], boxes[i][1])\n",
    "                lower_right_point = (boxes[i][2], boxes[i][3])\n",
    "                cv2.rectangle(self.origin_image, upper_left_point, lower_right_point, (0, 255, 0), 2)\n",
    "                result_point = (upper_left_point[0] - 10, upper_left_point[1] - 10)\n",
    "                text = \"{:} :  {:.2f}\".format(self.classes[int(classes[i])], confidences[i])\n",
    "                cv2.putText(self.origin_image, text, result_point, cv2.FONT_HERSHEY_COMPLEX, 0.5, (255, 0, 255), 1)\n",
    "        cv2.imshow(\"{:}\".format(self.image_name), self.origin_image)\n",
    "        cv2.waitKey(0)\n",
    "        return None\n",
    "    \n",
    "    def main(self):\n",
    "        \"\"\"程序执行入口\"\"\"\n",
    "        self.draw_bounding_box()\n",
    "        return None\n",
    "        "
   ]
  },
  {
   "cell_type": "code",
   "execution_count": 4,
   "metadata": {},
   "outputs": [],
   "source": [
    "# image_path = \"C:\\\\Users\\\\ABC\\\\PycharmProjects\\\\Mobilenet-SSD-License-Plate-Detection\\\\test\\\\benz.jpg\"\n",
    "model_path = \"C:\\\\Users\\\\ABC\\\\PycharmProjects\\\\Mobilenet-SSD-License-Plate-Detection\\\\lpr.caffemodel\"\n",
    "prototxt_path =  \"C:\\\\Users\\\\ABC\\\\PycharmProjects\\\\Mobilenet-SSD-License-Plate-Detection\\\\MobileNetSSD_test.prototxt\"\n",
    "image_name = \"benz.jpg\"\n",
    "width, height = 720, 1024\n",
    "mean, scalefactor = 127.5, 0.007843\n",
    "classes = [\"Background\", \"License\"]"
   ]
  },
  {
   "cell_type": "code",
   "execution_count": 5,
   "metadata": {},
   "outputs": [],
   "source": [
    "if __name__ == \"__main__\":\n",
    "    image_dir = \"C:\\\\Users\\\\ABC\\\\PycharmProjects\\\\Mobilenet-SSD-License-Plate-Detection\\\\Benz\"\n",
    "    for image_name in os.listdir(image_dir):\n",
    "        image_path = image_dir + \"\\\\\" + image_name\n",
    "        engine = LicensePlateDectector(image_path, image_name, width, height, mean, scalefactor, classes, model_path, prototxt_path)\n",
    "        engine.main()"
   ]
  },
  {
   "cell_type": "code",
   "execution_count": null,
   "metadata": {},
   "outputs": [],
   "source": []
  },
  {
   "cell_type": "code",
   "execution_count": null,
   "metadata": {},
   "outputs": [],
   "source": []
  }
 ],
 "metadata": {
  "kernelspec": {
   "display_name": "Python 3",
   "language": "python",
   "name": "python3"
  },
  "language_info": {
   "codemirror_mode": {
    "name": "ipython",
    "version": 3
   },
   "file_extension": ".py",
   "mimetype": "text/x-python",
   "name": "python",
   "nbconvert_exporter": "python",
   "pygments_lexer": "ipython3",
   "version": "3.7.1"
  }
 },
 "nbformat": 4,
 "nbformat_minor": 2
}
